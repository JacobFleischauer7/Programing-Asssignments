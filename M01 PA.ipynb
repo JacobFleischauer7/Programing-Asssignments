{
 "cells": [
  {
   "cell_type": "code",
   "execution_count": 10,
   "id": "7c4a0245",
   "metadata": {},
   "outputs": [
    {
     "name": "stdout",
     "output_type": "stream",
     "text": [
      "3600\n",
      "There are 86400 seconds in a day\n",
      "86400\n",
      "24.0\n",
      "24\n"
     ]
    }
   ],
   "source": [
    "#3.1 How many seconds are in an hour? Use the interactive interpreter as a calculator and multiply the number of seconds in a minute (60) by the number of minutes in an hour (also 60).\n",
    "print(60*60)\n",
    "#3.2 Assign the result from the previous task (seconds in an hour) to a variable called seconds_per_hour.\n",
    "seconds_per_hour = 3600\n",
    "#3.3 How many seconds are in a day? Use your seconds_per_hour variable.\n",
    "print(\"There are \"+str(seconds_per_hour*24)+\" seconds in a day\")\n",
    "#3.4 Calculate seconds per day again, but this time save the result in a variable called seconds_per_day.\n",
    "seconds_per_day = seconds_per_hour*24\n",
    "print(str(seconds_per_day))\n",
    "#3.5 Divide seconds_per_day by seconds_per_hour. Use floating-point (/) division.\n",
    "print(str(seconds_per_day/seconds_per_hour))\n",
    "#3.6 Divide seconds_per_day by seconds_per_hour, using integer (//) division. Did this number agree with the floating-point value from the previous question, aside from the final .0?\n",
    "print(str(seconds_per_day//seconds_per_hour)) #yes"
   ]
  },
  {
   "cell_type": "code",
   "execution_count": null,
   "id": "4fcad042",
   "metadata": {},
   "outputs": [],
   "source": []
  }
 ],
 "metadata": {
  "kernelspec": {
   "display_name": "Python 3 (ipykernel)",
   "language": "python",
   "name": "python3"
  },
  "language_info": {
   "codemirror_mode": {
    "name": "ipython",
    "version": 3
   },
   "file_extension": ".py",
   "mimetype": "text/x-python",
   "name": "python",
   "nbconvert_exporter": "python",
   "pygments_lexer": "ipython3",
   "version": "3.10.9"
  }
 },
 "nbformat": 4,
 "nbformat_minor": 5
}
